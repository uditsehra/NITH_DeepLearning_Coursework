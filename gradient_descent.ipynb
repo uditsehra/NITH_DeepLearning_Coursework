{
 "cells": [
  {
   "cell_type": "code",
   "execution_count": 1,
   "id": "33f56552-d61a-4143-a763-dac751376a77",
   "metadata": {},
   "outputs": [],
   "source": [
    "import numpy as np"
   ]
  },
  {
   "cell_type": "code",
   "execution_count": 2,
   "id": "d113bb64-a50e-4f47-8dcc-663997fe3dcc",
   "metadata": {},
   "outputs": [],
   "source": [
    "def grd_desc(fx, grad, x, lr, epoch):\n",
    "    x = x\n",
    "    for _ in range(epoch):\n",
    "        g = grad(x)\n",
    "        x -= lr * g\n",
    "    return grd_desc(x), x\n",
    "        "
   ]
  },
  {
   "cell_type": "code",
   "execution_count": 3,
   "id": "3767e647-56e7-4d3a-8ca6-6d2c384b7f49",
   "metadata": {},
   "outputs": [],
   "source": [
    "def f(x):\n",
    "    return x**2 + 2*x - 3"
   ]
  },
  {
   "cell_type": "code",
   "execution_count": 4,
   "id": "84aaf2c3-6e21-4f47-888f-c798b785007b",
   "metadata": {},
   "outputs": [],
   "source": [
    "def f_grad(x):\n",
    "    return 2*x + 2\n"
   ]
  },
  {
   "cell_type": "code",
   "execution_count": 6,
   "id": "132dbfe9-47c1-4d69-b400-6fc938e9304d",
   "metadata": {},
   "outputs": [
    {
     "ename": "TypeError",
     "evalue": "grd_desc() missing 4 required positional arguments: 'grad', 'x', 'lr', and 'epoch'",
     "output_type": "error",
     "traceback": [
      "\u001b[0;31m---------------------------------------------------------------------------\u001b[0m",
      "\u001b[0;31mTypeError\u001b[0m                                 Traceback (most recent call last)",
      "Cell \u001b[0;32mIn[6], line 4\u001b[0m\n\u001b[1;32m      2\u001b[0m lr \u001b[38;5;241m=\u001b[39m \u001b[38;5;241m0.01\u001b[39m\n\u001b[1;32m      3\u001b[0m epoch \u001b[38;5;241m=\u001b[39m \u001b[38;5;241m100\u001b[39m\n\u001b[0;32m----> 4\u001b[0m min_val, min_x \u001b[38;5;241m=\u001b[39m grd_desc(f, f_grad, x, lr, epoch)\n\u001b[1;32m      5\u001b[0m \u001b[38;5;28mprint\u001b[39m(\u001b[38;5;124mf\u001b[39m\u001b[38;5;124m\"\u001b[39m\u001b[38;5;124mMin value : \u001b[39m\u001b[38;5;132;01m{\u001b[39;00mmin_val\u001b[38;5;132;01m:\u001b[39;00m\u001b[38;5;124m.4f\u001b[39m\u001b[38;5;132;01m}\u001b[39;00m\u001b[38;5;124m at x = \u001b[39m\u001b[38;5;132;01m{\u001b[39;00mmin_x\u001b[38;5;132;01m:\u001b[39;00m\u001b[38;5;124m.4f\u001b[39m\u001b[38;5;132;01m}\u001b[39;00m\u001b[38;5;124m\"\u001b[39m)\n",
      "Cell \u001b[0;32mIn[2], line 6\u001b[0m, in \u001b[0;36mgrd_desc\u001b[0;34m(fx, grad, x, lr, epoch)\u001b[0m\n\u001b[1;32m      4\u001b[0m     g \u001b[38;5;241m=\u001b[39m grad(x)\n\u001b[1;32m      5\u001b[0m     x \u001b[38;5;241m-\u001b[39m\u001b[38;5;241m=\u001b[39m lr \u001b[38;5;241m*\u001b[39m g\n\u001b[0;32m----> 6\u001b[0m \u001b[38;5;28;01mreturn\u001b[39;00m grd_desc(x), x\n",
      "\u001b[0;31mTypeError\u001b[0m: grd_desc() missing 4 required positional arguments: 'grad', 'x', 'lr', and 'epoch'"
     ]
    }
   ],
   "source": [
    "x = 2*x**6 + 6*x**3 + 21\n",
    "lr = 0.01\n",
    "epoch = 100\n",
    "min_val, min_x = grd_desc(f, f_grad, x, lr, epoch)\n",
    "print(f\"Min value : {min_val:.4f} at x = {min_x:.4f}\")"
   ]
  },
  {
   "cell_type": "code",
   "execution_count": null,
   "id": "7bfd8cd0-b757-4a99-b42c-16a4b5a62283",
   "metadata": {},
   "outputs": [],
   "source": []
  },
  {
   "cell_type": "code",
   "execution_count": null,
   "id": "3e8823a3-e3f3-43eb-a489-0501f699ba3f",
   "metadata": {},
   "outputs": [],
   "source": []
  },
  {
   "cell_type": "code",
   "execution_count": null,
   "id": "d2fab674-b14f-42ff-a8da-0d79b9f26afd",
   "metadata": {},
   "outputs": [],
   "source": []
  },
  {
   "cell_type": "code",
   "execution_count": null,
   "id": "28e3ee1f-77cd-4dc2-8ab0-69e55e213bbb",
   "metadata": {},
   "outputs": [],
   "source": []
  }
 ],
 "metadata": {
  "kernelspec": {
   "display_name": "Python 3 (ipykernel)",
   "language": "python",
   "name": "python3"
  },
  "language_info": {
   "codemirror_mode": {
    "name": "ipython",
    "version": 3
   },
   "file_extension": ".py",
   "mimetype": "text/x-python",
   "name": "python",
   "nbconvert_exporter": "python",
   "pygments_lexer": "ipython3",
   "version": "3.11.5"
  },
  "widgets": {
   "application/vnd.jupyter.widget-state+json": {
    "state": {},
    "version_major": 2,
    "version_minor": 0
   }
  }
 },
 "nbformat": 4,
 "nbformat_minor": 5
}
