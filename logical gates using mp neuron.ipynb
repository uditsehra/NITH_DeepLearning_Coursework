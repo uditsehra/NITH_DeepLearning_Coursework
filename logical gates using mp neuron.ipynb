{
 "cells": [
  {
   "cell_type": "markdown",
   "id": "544ae0d8-feb6-493f-928a-3ca7e0422cfb",
   "metadata": {},
   "source": [
    "# Logical gates using MP neuron."
   ]
  },
  {
   "cell_type": "code",
   "execution_count": null,
   "id": "74a46c03-a7db-48d3-b692-eee45858bdd1",
   "metadata": {},
   "outputs": [],
   "source": []
  }
 ],
 "metadata": {
  "kernelspec": {
   "display_name": "Python 3 (ipykernel)",
   "language": "python",
   "name": "python3"
  },
  "language_info": {
   "codemirror_mode": {
    "name": "ipython",
    "version": 3
   },
   "file_extension": ".py",
   "mimetype": "text/x-python",
   "name": "python",
   "nbconvert_exporter": "python",
   "pygments_lexer": "ipython3",
   "version": "3.11.5"
  },
  "widgets": {
   "application/vnd.jupyter.widget-state+json": {
    "state": {},
    "version_major": 2,
    "version_minor": 0
   }
  }
 },
 "nbformat": 4,
 "nbformat_minor": 5
}
