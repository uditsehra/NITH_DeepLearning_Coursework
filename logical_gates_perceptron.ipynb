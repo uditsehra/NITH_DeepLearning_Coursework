{
 "cells": [
  {
   "cell_type": "markdown",
   "id": "618deb9d-069c-4d1b-ace7-89b6c40b6402",
   "metadata": {},
   "source": [
    "### Implement logical gates using perceptron"
   ]
  },
  {
   "cell_type": "code",
   "execution_count": 3,
   "id": "69f32920-e00d-474a-a123-91f4cce5e65d",
   "metadata": {},
   "outputs": [],
   "source": [
    "import itertools"
   ]
  },
  {
   "cell_type": "code",
   "execution_count": 49,
   "id": "f2a3dfee-948f-4c84-9ae0-db0708ccbe9f",
   "metadata": {},
   "outputs": [],
   "source": [
    "class Gates:\n",
    "    type = ''\n",
    "    def __init__(self, type):\n",
    "        type = self.type\n",
    "        # self.type = type\n",
    "        \n",
    "    def gate(self, x, y):\n",
    "        # x is input | y = threshold\n",
    "        print(f\"{self.type} Gate\")\n",
    "        if sum(x) >= y:\n",
    "            print(1)\n",
    "        else:\n",
    "            print(0)\n",
    "\n",
    "\n",
    "    def get_input(self):\n",
    "        print('Enter input values:')\n",
    "        n = int(input('Input number of values to enter:'))\n",
    "        x = list()\n",
    "        for i in range(0, n):\n",
    "            k = int(input())\n",
    "            x.append(k)\n",
    "        return x"
   ]
  },
  {
   "cell_type": "code",
   "execution_count": 50,
   "id": "cf178bae-f524-4187-8ed9-317cb972d49c",
   "metadata": {},
   "outputs": [
    {
     "name": "stdin",
     "output_type": "stream",
     "text": [
      "Enter type of gate. AND\n"
     ]
    },
    {
     "name": "stdout",
     "output_type": "stream",
     "text": [
      "Enter input values:\n"
     ]
    },
    {
     "name": "stdin",
     "output_type": "stream",
     "text": [
      "Input number of values to enter: 4\n",
      " 1\n",
      " 1\n",
      " 1\n",
      " 1\n",
      "Enter threshold value. 2\n"
     ]
    },
    {
     "name": "stdout",
     "output_type": "stream",
     "text": [
      " Gate\n",
      "1\n"
     ]
    }
   ],
   "source": [
    "type = input('Enter type of gate.')\n",
    "k = Gates(type)\n",
    "x = k.get_input()\n",
    "thresh = int(input('Enter threshold value.'))\n",
    "k.gate(x, thresh)\n"
   ]
  },
  {
   "cell_type": "code",
   "execution_count": 1,
   "id": "2811db92-aa96-4b26-b1b4-46ee13955c1c",
   "metadata": {},
   "outputs": [],
   "source": [
    "def create_matrix(n):\n",
    "  combinations = itertools.product([0, 1], repeat=n)\n",
    "  matrix = list(map(list, combinations))\n",
    "  # return the matrix\n",
    "  return matrix"
   ]
  },
  {
   "cell_type": "code",
   "execution_count": 4,
   "id": "afd71b2d-6bcb-40b9-8231-136fdfe866e7",
   "metadata": {},
   "outputs": [
    {
     "name": "stdin",
     "output_type": "stream",
     "text": [
      "Enter the number of inputs 6\n"
     ]
    }
   ],
   "source": [
    "n = int(input('Enter the number of inputs'))\n",
    "data = create_matrix(n)"
   ]
  },
  {
   "cell_type": "code",
   "execution_count": 7,
   "id": "ed96b537-dff4-4c9c-ac92-ef77e7e3911a",
   "metadata": {},
   "outputs": [],
   "source": [
    "def get_out(data, gate):\n",
    "    if gate == \"AND\":\n",
    "        return all(data)\n",
    "    elif gate == \"OR\":\n",
    "        return any(data)\n",
    "    elif gate == \"NOT\":\n",
    "        return list(map(lambda x: not x, values))\n",
    "    else:\n",
    "        return \"Invalid gate\""
   ]
  },
  {
   "cell_type": "code",
   "execution_count": 12,
   "id": "9a359faf-ebdc-49fe-a140-a2c2675867b9",
   "metadata": {},
   "outputs": [
    {
     "name": "stdin",
     "output_type": "stream",
     "text": [
      "Enter type of gate AND, OR, NOT OR\n"
     ]
    }
   ],
   "source": [
    "gate = input('Enter type of gate AND, OR, NOT')\n",
    "out_gate = list()\n",
    "for sample in data:\n",
    "    out_gate.append(get_out(sample, gate))"
   ]
  },
  {
   "cell_type": "code",
   "execution_count": 13,
   "id": "e5e82eec-6a11-485b-a9f7-7e506decae03",
   "metadata": {},
   "outputs": [
    {
     "data": {
      "text/plain": [
       "[False,\n",
       " True,\n",
       " True,\n",
       " True,\n",
       " True,\n",
       " True,\n",
       " True,\n",
       " True,\n",
       " True,\n",
       " True,\n",
       " True,\n",
       " True,\n",
       " True,\n",
       " True,\n",
       " True,\n",
       " True,\n",
       " True,\n",
       " True,\n",
       " True,\n",
       " True,\n",
       " True,\n",
       " True,\n",
       " True,\n",
       " True,\n",
       " True,\n",
       " True,\n",
       " True,\n",
       " True,\n",
       " True,\n",
       " True,\n",
       " True,\n",
       " True,\n",
       " True,\n",
       " True,\n",
       " True,\n",
       " True,\n",
       " True,\n",
       " True,\n",
       " True,\n",
       " True,\n",
       " True,\n",
       " True,\n",
       " True,\n",
       " True,\n",
       " True,\n",
       " True,\n",
       " True,\n",
       " True,\n",
       " True,\n",
       " True,\n",
       " True,\n",
       " True,\n",
       " True,\n",
       " True,\n",
       " True,\n",
       " True,\n",
       " True,\n",
       " True,\n",
       " True,\n",
       " True,\n",
       " True,\n",
       " True,\n",
       " True,\n",
       " True]"
      ]
     },
     "execution_count": 13,
     "metadata": {},
     "output_type": "execute_result"
    }
   ],
   "source": [
    "out_gate"
   ]
  },
  {
   "cell_type": "code",
   "execution_count": 22,
   "id": "8e3c4158-ed7a-4b14-964a-d65a2d71002f",
   "metadata": {},
   "outputs": [
    {
     "name": "stdout",
     "output_type": "stream",
     "text": [
      "    0  1  2  3  4  5\n",
      "0   0  0  0  0  0  0\n",
      "1   0  0  0  0  0  1\n",
      "2   0  0  0  0  1  0\n",
      "3   0  0  0  0  1  1\n",
      "4   0  0  0  1  0  0\n",
      ".. .. .. .. .. .. ..\n",
      "59  1  1  1  0  1  1\n",
      "60  1  1  1  1  0  0\n",
      "61  1  1  1  1  0  1\n",
      "62  1  1  1  1  1  0\n",
      "63  1  1  1  1  1  1\n",
      "\n",
      "[64 rows x 6 columns]\n",
      "        0\n",
      "0   False\n",
      "1    True\n",
      "2    True\n",
      "3    True\n",
      "4    True\n",
      "..    ...\n",
      "59   True\n",
      "60   True\n",
      "61   True\n",
      "62   True\n",
      "63   True\n",
      "\n",
      "[64 rows x 1 columns]\n"
     ]
    }
   ],
   "source": [
    "import numpy as np\n",
    "import pandas as pd\n",
    "\n",
    "X = pd.DataFrame(data)\n",
    "y = pd.DataFrame(out_gate)\n",
    "print(X)\n",
    "print(y)"
   ]
  }
 ],
 "metadata": {
  "kernelspec": {
   "display_name": "Python 3 (ipykernel)",
   "language": "python",
   "name": "python3"
  },
  "language_info": {
   "codemirror_mode": {
    "name": "ipython",
    "version": 3
   },
   "file_extension": ".py",
   "mimetype": "text/x-python",
   "name": "python",
   "nbconvert_exporter": "python",
   "pygments_lexer": "ipython3",
   "version": "3.11.5"
  },
  "widgets": {
   "application/vnd.jupyter.widget-state+json": {
    "state": {},
    "version_major": 2,
    "version_minor": 0
   }
  }
 },
 "nbformat": 4,
 "nbformat_minor": 5
}
